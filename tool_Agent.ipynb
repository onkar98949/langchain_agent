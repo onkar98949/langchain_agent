{
 "cells": [
  {
   "cell_type": "code",
   "execution_count": 20,
   "id": "03729189",
   "metadata": {},
   "outputs": [
    {
     "data": {
      "text/plain": [
       "True"
      ]
     },
     "execution_count": 20,
     "metadata": {},
     "output_type": "execute_result"
    }
   ],
   "source": [
    "from dotenv import load_dotenv\n",
    "\n",
    "load_dotenv()"
   ]
  },
  {
   "cell_type": "code",
   "execution_count": 21,
   "id": "8efe1b1c",
   "metadata": {},
   "outputs": [],
   "source": [
    "from langchain_ollama import ChatOllama \n",
    "from langchain_core.output_parsers import StrOutputParser\n",
    "from langchain_core.runnables import RunnablePassthrough \n",
    "from langchain_core.prompts import ChatPromptTemplate\n",
    "from langchain.agents import create_tool_calling_agent, AgentExecutor\n",
    "\n",
    "from langchain_community.tools import WikipediaQueryRun\n",
    "from langchain_community.utilities import WikipediaAPIWrapper\n",
    "\n",
    "from pymongo import MongoClient\n",
    "\n",
    "from langchain_ollama import OllamaEmbeddings\n",
    "\n",
    "from langchain_community.vectorstores import FAISS \n",
    "from langchain_community.docstore.in_memory import InMemoryDocstore\n",
    "\n",
    "wikipedia = WikipediaQueryRun(api_wrapper=WikipediaAPIWrapper())\n",
    "\n",
    "from langchain_community.tools.pubmed.tool import PubmedQueryRun\n",
    "\n",
    "search = PubmedQueryRun()\n",
    "\n",
    "llm = ChatOllama(model='llama3.2:3b', base_url='http://localhost:11434')"
   ]
  },
  {
   "cell_type": "code",
   "execution_count": null,
   "id": "95bf8b24",
   "metadata": {},
   "outputs": [],
   "source": [
    "embeddings = OllamaEmbeddings(model='nomic-embed-text', base_url='http://localhost:11434')\n",
    "\n",
    "db_name = r\"D:\\NLP\\LLM\\Langchain and Ollama\\09. Vector Stores and Retrievals\\health_supplements\"\n",
    "vector_store = FAISS.load_local(db_name, embeddings, allow_dangerous_deserialization=True)\n",
    "\n",
    "retriever = vector_store.as_retriever(search_type = 'similarity', \n",
    "                                      search_kwargs = {'k': 3})"
   ]
  },
  {
   "cell_type": "code",
   "execution_count": null,
   "id": "8eb12256",
   "metadata": {},
   "outputs": [],
   "source": [
    "### Tool Creation\n",
    "\n",
    "from langchain_core.tools import tool\n",
    "from langchain_community.tools import TavilySearchResults\n",
    "\n",
    "@tool\n",
    "def wikipedia_search(query):\n",
    "    \"\"\"\n",
    "    Search wikipedia for general information.\n",
    "    Not for medical and life sciences queries\n",
    "    \n",
    "    Args:\n",
    "    query: The search query\n",
    "    \"\"\"\n",
    "    \n",
    "    wikipedia = WikipediaQueryRun(api_wrapper=WikipediaAPIWrapper())\n",
    "    response = wikipedia.invoke(query)\n",
    "    return response\n",
    "\n",
    "@tool\n",
    "def health_supplements(query: str) -> str:\n",
    "    \"\"\"Search for information about Health Supplements.\n",
    "    For any questions about Health and Gym Supplements, you must use this tool!,\n",
    "\n",
    "    Args:\n",
    "        query: The search query.\n",
    "    \"\"\"\n",
    "    response = retriever.invoke(query)\n",
    "    return response\n",
    "\n",
    "@tool\n",
    "def pubmed_search(query):\n",
    "    \"\"\"\n",
    "    Search pubmed for medical and life sciences queries.\n",
    "    \n",
    "    Args:\n",
    "    query: The search query\n",
    "    \"\"\"\n",
    "    \n",
    "    search = PubmedQueryRun()\n",
    "    response = search.invoke(query)\n",
    "    return response\n",
    "\n",
    "@tool\n",
    "def tavily_search(query):\n",
    "    \"\"\"\n",
    "    Search the web for realtime and latest information.\n",
    "    for examples, news, stock market, weather updates etc.\n",
    "    \n",
    "    Args:\n",
    "    query: The search query\n",
    "    \"\"\"\n",
    "    \n",
    "    search = TavilySearchResults(\n",
    "        max_results=5,\n",
    "        search_depth=\"advanced\",\n",
    "        include_answer=True,\n",
    "        include_raw_content=True,\n",
    "    )\n",
    "    response = search.invoke(query)\n",
    "    return response\n",
    "\n",
    "@tool\n",
    "def get_assets_by_employee(employee: str) -> str:\n",
    "    \"\"\"\n",
    "    Retrieve a list of assets assigned to a specific employee.\n",
    "\n",
    "    Args:\n",
    "        employee: The name of the employee to look up.\n",
    "    \"\"\"\n",
    "    try:\n",
    "        client = MongoClient(\"mongodb...url\")\n",
    "        db = client[\"rasa\"]\n",
    "        collection = db[\"employees\"]\n",
    "\n",
    "        employee_data = collection.find_one({\n",
    "            \"employee\": {\"$regex\": f\"^{employee}$\", \"$options\": \"i\"}\n",
    "        })\n",
    "\n",
    "        if employee_data and \"assets_assigned\" in employee_data:\n",
    "            assets = employee_data[\"assets_assigned\"]\n",
    "            if assets:\n",
    "                return f\"Assets assigned to {employee}: {', '.join(assets)}\"\n",
    "            else:\n",
    "                return f\"{employee} has no assets assigned.\"\n",
    "        else:\n",
    "            return f\"No employee found with name '{employee}'.\"\n",
    "\n",
    "    except Exception as e:\n",
    "        return f\"Database error: {str(e)}\"\n"
   ]
  },
  {
   "cell_type": "code",
   "execution_count": 25,
   "id": "d4a4a1d3",
   "metadata": {},
   "outputs": [
    {
     "name": "stdout",
     "output_type": "stream",
     "text": [
      "bound=ChatOllama(model='llama3.2:3b', base_url='http://localhost:11434') kwargs={'tools': [{'type': 'function', 'function': {'name': 'pubmed_search', 'description': 'Search pubmed for medical and life sciences queries.\\n\\nArgs:\\nquery: The search query', 'parameters': {'properties': {'query': {}}, 'required': ['query'], 'type': 'object'}}}, {'type': 'function', 'function': {'name': 'tavily_search', 'description': 'Search the web for realtime and latest information.\\nfor examples, news, stock market, weather updates etc.\\n\\nArgs:\\nquery: The search query', 'parameters': {'properties': {'query': {}}, 'required': ['query'], 'type': 'object'}}}, {'type': 'function', 'function': {'name': 'wikipedia_search', 'description': 'Search wikipedia for general information.\\nNot for medical and life sciences queries\\n\\nArgs:\\nquery: The search query', 'parameters': {'properties': {'query': {}}, 'required': ['query'], 'type': 'object'}}}, {'type': 'function', 'function': {'name': 'get_assets_by_employee', 'description': 'Retrieve a list of assets assigned to a specific employee.\\n\\nArgs:\\n    employee: The name of the employee to look up.', 'parameters': {'properties': {'employee': {'type': 'string'}}, 'required': ['employee'], 'type': 'object'}}}]} config={} config_factories=[]\n"
     ]
    }
   ],
   "source": [
    "tools  = [pubmed_search,tavily_search,wikipedia_search,get_assets_by_employee]\n",
    "\n",
    "llm_with_tools = llm.bind_tools(tools)\n",
    "print(llm_with_tools)"
   ]
  },
  {
   "cell_type": "code",
   "execution_count": 26,
   "id": "bdfb6717",
   "metadata": {},
   "outputs": [
    {
     "data": {
      "text/plain": [
       "AIMessage(content='', additional_kwargs={}, response_metadata={'model': 'llama3.2:3b', 'created_at': '2025-06-23T18:24:04.9728496Z', 'done': True, 'done_reason': 'stop', 'total_duration': 2136637000, 'load_duration': 112111800, 'prompt_eval_count': 370, 'prompt_eval_duration': 818000000, 'eval_count': 21, 'eval_duration': 1203000000, 'model_name': 'llama3.2:3b'}, id='run--85921614-aeac-45bf-89ed-85066a742157-0', tool_calls=[{'name': 'pubmed_search', 'args': {'query': 'esophageal cancer'}, 'id': '7302d35c-7a66-453c-9a1e-555ac8e4e94a', 'type': 'tool_call'}], usage_metadata={'input_tokens': 370, 'output_tokens': 21, 'total_tokens': 391})"
      ]
     },
     "execution_count": 26,
     "metadata": {},
     "output_type": "execute_result"
    }
   ],
   "source": [
    "llm_with_tools.invoke(\"Tell me about esophageal cancer\")"
   ]
  },
  {
   "cell_type": "code",
   "execution_count": null,
   "id": "ee15a128",
   "metadata": {},
   "outputs": [
    {
     "name": "stdout",
     "output_type": "stream",
     "text": [
      "{'input': 'Tell me about x-ray machine', 'output': \"X-ray machines are devices that use X-rays for various applications, including medicine, industrial inspection, and material testing. In medical settings, X-ray machines are used to produce images of the internal structures of living organisms, helping doctors diagnose and treat conditions.\\n\\nHere's a brief overview:\\n\\n*   **How it works**: X-ray machines produce X-rays by accelerating electrons to high speeds and then decelerating them using magnetic fields.\\n*   **Types of X-ray machines**: There are several types of X-ray machines, including digital X-ray systems, conventional X-ray systems, and computed tomography (CT) scanners.\\n*   **Applications**: X-ray machines have a wide range of applications, including medical imaging, industrial inspection, security screening, and material testing.\\n*   **Safety precautions**: X-ray machines can be hazardous to health if not used properly. It's essential to follow safety guidelines and wear protective gear when working with X-ray machines.\\n\\nX-rays are a form of high-energy electromagnetic radiation that can penetrate various materials, including living tissue. They have numerous applications in medicine, industry, and security screening.\\n\\nHere are some key facts about X-rays:\\n\\n*   **Discovery**: X-rays were discovered by Wilhelm Conrad Röntgen in 1895.\\n*   **Wavelength range**: X-rays have a wavelength ranging from 10 nanometers to 10 picometers.\\n*   **Frequency range**: X-rays have frequencies between 30 petahertz and 30 exahertz.\\n*   **Photon energy range**: X-rays have photon energies between 100 eV and 100 keV.\\n\\nX-ray machines are an essential tool in many industries, including medicine, industry, and security screening. By understanding how they work and their applications, we can harness the power of X-rays to improve our lives.\"}\n"
     ]
    }
   ],
   "source": [
    "prompt = ChatPromptTemplate.from_messages([\n",
    "    (\"system\", \"You are a helpful assistant which helps solve problems by calling tool functions.\"),\n",
    "    (\"human\", \"{input}\"),\n",
    "    (\"placeholder\", \"{agent_scratchpad}\")\n",
    "])\n",
    "\n",
    "agent = create_tool_calling_agent(llm, tools, prompt)\n",
    "agent_executor = AgentExecutor(agent=agent, tools=tools)\n",
    "\n",
    "result = agent_executor.invoke({\"input\": \"Tell me about x-ray machine\"})\n",
    "print(result)"
   ]
  },
  {
   "cell_type": "code",
   "execution_count": null,
   "id": "3d61a973",
   "metadata": {},
   "outputs": [],
   "source": []
  }
 ],
 "metadata": {
  "kernelspec": {
   "display_name": "ollama_llm",
   "language": "python",
   "name": "python3"
  },
  "language_info": {
   "codemirror_mode": {
    "name": "ipython",
    "version": 3
   },
   "file_extension": ".py",
   "mimetype": "text/x-python",
   "name": "python",
   "nbconvert_exporter": "python",
   "pygments_lexer": "ipython3",
   "version": "3.9.21"
  }
 },
 "nbformat": 4,
 "nbformat_minor": 5
}
